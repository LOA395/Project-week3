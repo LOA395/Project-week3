{
 "cells": [
  {
   "cell_type": "markdown",
   "metadata": {},
   "source": [
    "# Análisis Exploratorio de Datos // Proyecto de Contaminación y Reciclaje en Europa\n",
    "\n",
    "Este notebook realiza el análisis exploratorio de datos (EDA) para el proyecto de contaminación y reciclaje en Europa. A través de este análisis, examinaremos y visualizaremos las tasas de reciclaje, generación de residuos, emisiones de CO2, y niveles de contaminación del aire en varios países europeos.\n",
    "\n",
    "### Objetivos del Proyecto\n",
    "- Analizar la evolución de las tasas de reciclaje, generación de residuos, emisiones de CO2, y niveles de contaminación del aire en Europa.\n",
    "- Identificar tendencias y patrones en estos indicadores a lo largo del tiempo.\n",
    "- Comparar estos indicadores entre diferentes países y años.\n",
    "\n",
    "### Descripción de los Datos\n",
    "- **Tasas de Reciclaje**: Datos anuales sobre las tasas de reciclaje en diferentes países europeos.\n",
    "- **Generación de Residuos**: Datos bianuales sobre la generación total de residuos.\n",
    "- **Emisiones de CO2**: Datos anuales sobre las emisiones de CO2 en diferentes países europeos.\n",
    "- **Niveles de Contaminación del Aire**: Datos anuales sobre los niveles de contaminación del aire.\n",
    "- **Índice de Desarrollo Humano (IDH)**: Mmedida compuesta que evalúa el desarrollo general de un país en términos de bienestar de sus ciudadanos. El IDH combina tres dimensiones principales:\n",
    "    1. Esperanza de Vida\n",
    "    2. Nivel de Educación\n",
    "    3. Ingreso Nacional Bruto per Cápita (INBpc)\n",
    "\n",
    "En el contexto de este proyecto, el IDH se utilizará para comparar los niveles de desarrollo humano de diferentes países europeos con las tasas de reciclaje, generación de residuos, emisiones de CO2 y niveles de contaminación del aire. La comparación permitirá analizar si existe una relación entre el desarrollo humano y estos indicadores ambientales.\n"
   ]
  },
  {
   "cell_type": "markdown",
   "metadata": {},
   "source": [
    "Primero, importamos las librerías necesarias y definimos las funciones que usaremos a lo largo del análisis."
   ]
  },
  {
   "cell_type": "code",
   "execution_count": 1,
   "metadata": {},
   "outputs": [],
   "source": [
    "# Importar librerías\n",
    "import pandas as pd\n",
    "import matplotlib.pyplot as plt\n",
    "import seaborn as sns\n",
    "from functions import *\n",
    "\n",
    "\n",
    "# Configuración de visualización\n",
    "sns.set(style=\"whitegrid\")"
   ]
  },
  {
   "cell_type": "markdown",
   "metadata": {},
   "source": [
    "## Carga de Datos\n",
    "\n",
    "En esta sección, cargamos los datos desde los archivos."
   ]
  },
  {
   "cell_type": "code",
   "execution_count": 3,
   "metadata": {},
   "outputs": [],
   "source": [
    "data_annual = load_csv_data('data_to_eda/data_recycling_rates.csv')  # Datos anuales\n",
    "data_bianual = load_csv_data('data_to_eda/data_waste_generation.csv')  # Datos bianuales\n",
    "data_2022 = load_csv_data('data_to_eda/data_2022.csv') # Datos 2022"
   ]
  }
 ],
 "metadata": {
  "kernelspec": {
   "display_name": "project_week3",
   "language": "python",
   "name": "python3"
  },
  "language_info": {
   "codemirror_mode": {
    "name": "ipython",
    "version": 3
   },
   "file_extension": ".py",
   "mimetype": "text/x-python",
   "name": "python",
   "nbconvert_exporter": "python",
   "pygments_lexer": "ipython3",
   "version": "3.11.9"
  }
 },
 "nbformat": 4,
 "nbformat_minor": 2
}
